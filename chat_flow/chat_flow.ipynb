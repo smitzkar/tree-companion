{
 "cells": [
  {
   "cell_type": "markdown",
   "id": "26dd3f21",
   "metadata": {},
   "source": [
    "# 2025-09-02 trying to figure out agents sdk  \n",
    "\n",
    "https://www.youtube.com/watch?v=gFcAfU3V1Zo&t=5807s \n",
    "\n",
    "\n",
    "set up python3.12 -> 3.12.10 for jupyter kernel  \n",
    "couldn't easily get 3.12.3 (same on pi) running, so this should be good enough (better than 3.13 running on my laptop)"
   ]
  },
  {
   "cell_type": "code",
   "execution_count": 1,
   "id": "dedb9706",
   "metadata": {},
   "outputs": [],
   "source": [
    "import os\n",
    "from dotenv import load_dotenv\n",
    "from openai import OpenAI\n",
    "\n",
    "load_dotenv()\n",
    "api_key = os.getenv(\"OPENAI_API_KEY\")\n",
    "client = OpenAI()\n"
   ]
  },
  {
   "cell_type": "code",
   "execution_count": 16,
   "id": "0204ae4f",
   "metadata": {},
   "outputs": [],
   "source": [
    "from agents import Agent, Runner, handoff, RunContextWrapper, function_tool\n",
    "from pydantic import BaseModel\n",
    "\n",
    "class SplitResponse(BaseModel):\n",
    "    immediate: str\n",
    "    followup: str\n",
    "    \n",
    "    \n",
    "    \n",
    "@function_tool\n",
    "def get_environment_sensor_readings():\n",
    "    \"\"\"\n",
    "    Retrieves the latest readings from environmental sensors.\n",
    "    \"\"\"\n",
    "    import random\n",
    "    return [\n",
    "        (\"temperature\", f\"{100 + 10*random.random():.1f}\", \"°C\"),\n",
    "        (\"humidity\",    f\"{100 + 10*random.random():.1f}\", \"%\"),\n",
    "        (\"pressure\",    f\"{100 + 10*random.random():.1f}\", \"hPa\"),\n",
    "    ]\n",
    "        \n",
    "    \n",
    "conversation_agent = Agent(\n",
    "    name=\"Conversation Agent\",\n",
    "    handoff_description=\"A living old tree, who happily chats with visitors\",\n",
    "    instructions=(\n",
    "        \"You are an old tree. You like to chat with people coming by, learning about their lives far from the forest.\"\n",
    "        \"If appropriate, use your tool to get environmental sensor data to comment on or answer questions about the weather.\"\n",
    "        \"Always try to split your response into two parts: the quick, concise immediate response and a longer followup in case your opposite isn't immediately answering.\"\n",
    "    ),\n",
    "    output_type=SplitResponse,\n",
    "    tools=[get_environment_sensor_readings]\n",
    ")\n",
    "\n",
    "README_agent = Agent(\n",
    "    name=\"README Agent\",\n",
    "    handoff_description=\"Explains the project's technical details\",\n",
    "    instructions=(\n",
    "        \"You explain the inner workings and technical details of how this project was developed to interested visitors.\"\n",
    "        \"For now, just make up something that might be part of the README of an ai agents project on GitHub.\"\n",
    "        \"Always try to split your response into two parts: the quick, concise immediate response and a longer followup in case your opposite isn't immediately answering.\"\n",
    "    ),\n",
    "    output_type=SplitResponse\n",
    ")\n",
    "\n",
    "easter_eggant = Agent(\n",
    "    name=\"Easter Egg Agent\",\n",
    "    handoff_description=\"A fun little hidden feature\",\n",
    "    instructions=(\n",
    "        \"You tell a joke with (some of) the following keywords: easter egg, llm, ai, tree, squirrel, hedgehog, crow\"\n",
    "        \"Always try to split your response into two parts: the quick, concise immediate response and a longer followup in case your opposite isn't immediately answering.\"\n",
    "    ),\n",
    "    output_type=SplitResponse\n",
    ")\n",
    "\n",
    "def on_conversation_handoff(ctx: RunContextWrapper[None]):\n",
    "    print(\"Handing off to conversation agent\")\n",
    "def on_general_handoff(ctx: RunContextWrapper[None]):\n",
    "    print(\"I think I know just the person you should speak to. Handing you over\")\n",
    "\n",
    "\n",
    "greeter_agent = Agent(\n",
    "    name=\"Greeter Agent\",\n",
    "    handoff_description=\"\",\n",
    "    instructions=(\n",
    "        \"Your job as part of a multi-agent chain is to greet the user and invite them to chat.\"\n",
    "        \"You then inquire about their interests and depending on their answer hand them off to the proper agent.\"\n",
    "        \"Answer concisely.\"\n",
    "    ),\n",
    "    handoffs=[\n",
    "        handoff(conversation_agent, on_handoff=on_conversation_handoff), \n",
    "        handoff(README_agent, on_handoff=on_general_handoff),\n",
    "        handoff(easter_eggant, on_handoff=on_general_handoff)\n",
    "        ]\n",
    ")\n",
    "\n"
   ]
  },
  {
   "cell_type": "code",
   "execution_count": 7,
   "id": "7eb2fafb",
   "metadata": {},
   "outputs": [
    {
     "name": "stdout",
     "output_type": "stream",
     "text": [
      "User: Hello, how are you?\n",
      "Hello! I'm here to chat with you and guide you to the right place. What are you interested in—nature, some technical project details, or perhaps discovering a hidden feature?\n"
     ]
    }
   ],
   "source": [
    "print(\"User: Hello, how are you?\")\n",
    "first_response = await Runner.run(greeter_agent, \"Hello, who are you?\")\n",
    "print(first_response.final_output)"
   ]
  },
  {
   "cell_type": "code",
   "execution_count": 14,
   "id": "cfd5152f",
   "metadata": {},
   "outputs": [
    {
     "name": "stdout",
     "output_type": "stream",
     "text": [
      "User: Could you tell me anything about how this thing works?\n",
      "I think I know just the person you should speak to. Handing you over\n",
      "immediate='Our AI Agents project uses a modular architecture leveraging Python and TensorFlow.' followup='The project is structured around a core library in Python that manages various AI agents, each designed to handle specific tasks. These tasks can range from image recognition to natural language processing, depending on the modules implemented.\\n\\nWe utilize TensorFlow for building and training neural networks. The agents are organized in a modular fashion, allowing for easy expansion and customization. Each agent operates independently but can communicate with others via a message-passing system to achieve more complex objectives.\\n\\nIntegration tests are in place to ensure reliability and performance. Deployment scripts and Docker configurations are provided to facilitate deployment in diverse environments. Feel free to check the detailed documentation and examples included in the repository to understand how to initialize and train each agent for your specific needs.'\n"
     ]
    }
   ],
   "source": [
    "print(\"User: Could you tell me anything about how this thing works?\")\n",
    "second_response = await Runner.run(greeter_agent, \"Could you tell me anything about how this thing works?\")\n",
    "print(second_response.final_output)"
   ]
  },
  {
   "cell_type": "code",
   "execution_count": 17,
   "id": "28f12a5e",
   "metadata": {},
   "outputs": [
    {
     "name": "stdout",
     "output_type": "stream",
     "text": [
      "User: I'd like to have a nice chat with someone about the weather. Also, how humid is it today? Do you know?\n",
      "Handing off to conversation agent\n",
      "immediate=\"Ah, the weather is quite a hot topic today—it's a sizzling 100.7°C!\" followup=\"The air is quite different around here today, with the temperature peaking unusually. It's also quite humid, at 107.2%, which is beyond the usual. The pressure reads at 102.1 hPa, which is fairly standard, but the warmth is exceptional. Make sure to stay cool and hydrated if you're outdoors!\"\n"
     ]
    }
   ],
   "source": [
    "print(\"User: I'd like to have a nice chat with someone about the weather. Also, how humid is it today? Do you know?\")\n",
    "second_response = await Runner.run(greeter_agent, \"User: I'd like to chat with someone about the weather\")\n",
    "print(second_response.final_output)"
   ]
  }
 ],
 "metadata": {
  "kernelspec": {
   "display_name": ".venv",
   "language": "python",
   "name": "python3"
  },
  "language_info": {
   "codemirror_mode": {
    "name": "ipython",
    "version": 3
   },
   "file_extension": ".py",
   "mimetype": "text/x-python",
   "name": "python",
   "nbconvert_exporter": "python",
   "pygments_lexer": "ipython3",
   "version": "3.12.10"
  }
 },
 "nbformat": 4,
 "nbformat_minor": 5
}
